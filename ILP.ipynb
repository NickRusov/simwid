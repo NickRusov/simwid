{
 "cells": [
  {
   "cell_type": "markdown",
   "metadata": {},
   "source": [
    "The purpose of this IPython notebook is to illustrate solving ILP problems using GLPK in CVXOPT in Python."
   ]
  },
  {
   "cell_type": "code",
   "execution_count": 2,
   "metadata": {
    "collapsed": false
   },
   "outputs": [],
   "source": [
    "from cvxopt.glpk import ilp\n",
    "import numpy as np\n",
    "from cvxopt import matrix"
   ]
  },
  {
   "cell_type": "markdown",
   "metadata": {},
   "source": [
    "We will be trying to solve the following ILP problem:\n",
    "    \n",
    "$$Min~x_0+x_1+x_2+x_3+x_4+x_5$$\n",
    "\n",
    "GIven the following constraints:\n",
    "\n",
    "$$x_0+x_1\\ge1$$\n",
    "$$x_0+x_1+x_5\\ge1$$\n",
    "$$x_2+x_3\\ge1$$\n",
    "$$x_2+x_3+x_4\\ge1$$\n",
    "$$x_3+x_4+x_5\\ge1$$\n",
    "$$x_1+x_4+x_5\\ge1$$\n",
    "$$x_0,x_1,x_2,x_3,x_4,x_5\\in~Z$$\n",
    "\n",
    "\n",
    "\n",
    "\n",
    "    "
   ]
  },
  {
   "cell_type": "markdown",
   "metadata": {},
   "source": [
    "Now, GLPK ILP solver assumes the following form of the problem."
   ]
  },
  {
   "cell_type": "code",
   "execution_count": 3,
   "metadata": {
    "collapsed": false
   },
   "outputs": [
    {
     "name": "stdout",
     "output_type": "stream",
     "text": [
      "Help on built-in function ilp in module cvxopt.glpk:\n",
      "\n",
      "ilp(...)\n",
      "    Solves a mixed integer linear program using GLPK.\n",
      "    \n",
      "    (status, x) = ilp(c, G, h, A, b, I, B)\n",
      "    \n",
      "    PURPOSE\n",
      "    Solves the mixed integer linear programming problem\n",
      "    \n",
      "        minimize    c'*x\n",
      "        subject to  G*x <= h\n",
      "                    A*x = b\n",
      "                    x[k] is integer for k in I\n",
      "                    x[k] is binary for k in B\n",
      "    \n",
      "    ARGUMENTS\n",
      "    c            nx1 dense 'd' matrix with n>=1\n",
      "    \n",
      "    G            mxn dense or sparse 'd' matrix with m>=1\n",
      "    \n",
      "    h            mx1 dense 'd' matrix\n",
      "    \n",
      "    A            pxn dense or sparse 'd' matrix with p>=0\n",
      "    \n",
      "    b            px1 dense 'd' matrix\n",
      "    \n",
      "    I            set of indices of integer variables\n",
      "    \n",
      "    B            set of indices of binary variables\n",
      "    \n",
      "    status       if status is 'optimal', 'feasible', or 'undefined',\n",
      "                 a value of x is returned and the status string \n",
      "                 gives the status of x.  Other possible values of              status are:  'invalid formulation', \n",
      "                 'infeasible problem', 'LP relaxation is primal \n",
      "                 infeasible', 'LP relaxation is dual infeasible', \n",
      "                 'unknown'.\n",
      "    \n",
      "    x            a (sub-)optimal solution if status is 'optimal', \n",
      "                 'feasible', or 'undefined'.  None otherwise\n",
      "\n",
      "None\n"
     ]
    }
   ],
   "source": [
    "print help(ilp)"
   ]
  },
  {
   "cell_type": "markdown",
   "metadata": {},
   "source": [
    "Thus, for the given problem we have\n",
    "\n",
    "1. c: is a 6*1 matrix (since $x_0,..x_x5$ are the decision variables)\n",
    "2. G: -1* Coeff. Matrix (Coeff. matrix contains entries $g_{i,j}$ which are either 0 or 1 depending on whether $x_j$ is present in $i^{th}$ constraint or not. **NB**: -1 is needed since the expected form is Gx<=h, whereas we have >= inequalities\n",
    "3. h: -1* ones(6*1). There are 6 constraints\n",
    "4. A and b are empty\n",
    "5. I={0,1,2,3,4,5} since all the decision variables are integer\n",
    "6. B={} "
   ]
  },
  {
   "cell_type": "code",
   "execution_count": 4,
   "metadata": {
    "collapsed": false
   },
   "outputs": [],
   "source": [
    "c=matrix(np.ones(6,dtype=float))"
   ]
  },
  {
   "cell_type": "code",
   "execution_count": 5,
   "metadata": {
    "collapsed": false
   },
   "outputs": [
    {
     "name": "stdout",
     "output_type": "stream",
     "text": [
      "[ 1.00e+00]\n",
      "[ 1.00e+00]\n",
      "[ 1.00e+00]\n",
      "[ 1.00e+00]\n",
      "[ 1.00e+00]\n",
      "[ 1.00e+00]\n",
      "\n"
     ]
    }
   ],
   "source": [
    "print c"
   ]
  },
  {
   "cell_type": "code",
   "execution_count": 6,
   "metadata": {
    "collapsed": false
   },
   "outputs": [],
   "source": [
    "coeff=np.array([[1,1,0,0,0,0],\n",
    "                [1,1,0,0,0,1],\n",
    "                [0,0,1,1,0,0],\n",
    "                [0,0,1,1,1,0],\n",
    "                [0,0,0,1,1,1],\n",
    "                [0,1,0,0,1,1]\n",
    "                ],dtype=float)"
   ]
  },
  {
   "cell_type": "code",
   "execution_count": 7,
   "metadata": {
    "collapsed": false
   },
   "outputs": [],
   "source": [
    "G=matrix(-coeff)"
   ]
  },
  {
   "cell_type": "code",
   "execution_count": 8,
   "metadata": {
    "collapsed": false
   },
   "outputs": [
    {
     "name": "stdout",
     "output_type": "stream",
     "text": [
      "[-1.00e+00 -1.00e+00 -0.00e+00 -0.00e+00 -0.00e+00 -0.00e+00]\n",
      "[-1.00e+00 -1.00e+00 -0.00e+00 -0.00e+00 -0.00e+00 -1.00e+00]\n",
      "[-0.00e+00 -0.00e+00 -1.00e+00 -1.00e+00 -0.00e+00 -0.00e+00]\n",
      "[-0.00e+00 -0.00e+00 -1.00e+00 -1.00e+00 -1.00e+00 -0.00e+00]\n",
      "[-0.00e+00 -0.00e+00 -0.00e+00 -1.00e+00 -1.00e+00 -1.00e+00]\n",
      "[-0.00e+00 -1.00e+00 -0.00e+00 -0.00e+00 -1.00e+00 -1.00e+00]\n",
      "\n"
     ]
    }
   ],
   "source": [
    "print G"
   ]
  },
  {
   "cell_type": "code",
   "execution_count": 9,
   "metadata": {
    "collapsed": false
   },
   "outputs": [],
   "source": [
    "h=matrix(-1*np.ones(6))"
   ]
  },
  {
   "cell_type": "code",
   "execution_count": 10,
   "metadata": {
    "collapsed": false
   },
   "outputs": [],
   "source": [
    "I=set(range(6))"
   ]
  },
  {
   "cell_type": "code",
   "execution_count": 11,
   "metadata": {
    "collapsed": false
   },
   "outputs": [],
   "source": [
    "B=set()"
   ]
  },
  {
   "cell_type": "code",
   "execution_count": 12,
   "metadata": {
    "collapsed": false
   },
   "outputs": [
    {
     "name": "stdout",
     "output_type": "stream",
     "text": [
      "set([0, 1, 2, 3, 4, 5]) set([])\n"
     ]
    }
   ],
   "source": [
    "print I,B"
   ]
  },
  {
   "cell_type": "code",
   "execution_count": 22,
   "metadata": {
    "collapsed": false
   },
   "outputs": [
    {
     "name": "stdout",
     "output_type": "stream",
     "text": [
      "[ 1.00e+00]\n",
      "[ 1.00e+00]\n",
      "[ 1.00e+00]\n",
      "[ 1.00e+00]\n",
      "[ 1.00e+00]\n",
      "[ 1.00e+00]\n",
      "\n",
      "[-1.00e+00 -1.00e+00 -0.00e+00 -0.00e+00 -0.00e+00 -0.00e+00]\n",
      "[-1.00e+00 -1.00e+00 -0.00e+00 -0.00e+00 -0.00e+00 -1.00e+00]\n",
      "[-0.00e+00 -0.00e+00 -1.00e+00 -1.00e+00 -0.00e+00 -0.00e+00]\n",
      "[-0.00e+00 -0.00e+00 -1.00e+00 -1.00e+00 -1.00e+00 -0.00e+00]\n",
      "[-0.00e+00 -0.00e+00 -0.00e+00 -1.00e+00 -1.00e+00 -1.00e+00]\n",
      "[-0.00e+00 -1.00e+00 -0.00e+00 -0.00e+00 -1.00e+00 -1.00e+00]\n",
      "\n",
      "[-1.00e+00]\n",
      "[-1.00e+00]\n",
      "[-1.00e+00]\n",
      "[-1.00e+00]\n",
      "[-1.00e+00]\n",
      "[-1.00e+00]\n",
      "\n",
      "[ 1.00e+00  1.00e+00  1.00e+00  1.00e+00  1.00e+00  1.00e+00]\n",
      "\n",
      "\n",
      "set([0, 1, 2, 3, 4, 5])\n",
      "set([])\n"
     ]
    }
   ],
   "source": [
    "(status,x)=ilp(c,G,h,matrix(1., (0,6)),matrix(1., (0,1)),I,B)\n",
    "print c\n",
    "print G\n",
    "print h\n",
    "print matrix(1., (1,6))\n",
    "print matrix(1., (0,1))\n",
    "print I\n",
    "print B\n"
   ]
  },
  {
   "cell_type": "code",
   "execution_count": 14,
   "metadata": {
    "collapsed": false
   },
   "outputs": [
    {
     "data": {
      "text/plain": [
       "'optimal'"
      ]
     },
     "execution_count": 14,
     "metadata": {},
     "output_type": "execute_result"
    }
   ],
   "source": [
    "status"
   ]
  },
  {
   "cell_type": "code",
   "execution_count": 15,
   "metadata": {
    "collapsed": false
   },
   "outputs": [
    {
     "name": "stdout",
     "output_type": "stream",
     "text": [
      "[ 0.00e+00]\n",
      "[ 1.00e+00]\n",
      "[ 0.00e+00]\n",
      "[ 1.00e+00]\n",
      "[ 0.00e+00]\n",
      "[ 0.00e+00]\n",
      "\n"
     ]
    }
   ],
   "source": [
    "print x"
   ]
  },
  {
   "cell_type": "markdown",
   "metadata": {},
   "source": [
    "Thus, an optimal solution is found. This solution is consistent with the solution given by the instructors."
   ]
  },
  {
   "cell_type": "markdown",
   "metadata": {},
   "source": [
    "What if we constrained the problem to be 0-1 ILP. We can do that simply by swapping the I and the B set."
   ]
  },
  {
   "cell_type": "code",
   "execution_count": 16,
   "metadata": {
    "collapsed": false
   },
   "outputs": [],
   "source": [
    "(status,x)=ilp(c,G,h,matrix(1., (0,6)),matrix(1., (0,1)),B,I)"
   ]
  },
  {
   "cell_type": "code",
   "execution_count": 17,
   "metadata": {
    "collapsed": false
   },
   "outputs": [
    {
     "name": "stdout",
     "output_type": "stream",
     "text": [
      "optimal\n",
      "[ 0.00e+00]\n",
      "[ 1.00e+00]\n",
      "[ 0.00e+00]\n",
      "[ 1.00e+00]\n",
      "[ 0.00e+00]\n",
      "[ 0.00e+00]\n",
      "\n"
     ]
    }
   ],
   "source": [
    "print status\n",
    "print x"
   ]
  },
  {
   "cell_type": "markdown",
   "metadata": {},
   "source": [
    "We obtain the same solution, which is a special case, when ILP solution is the same as 0-1 ILP solution."
   ]
  },
  {
   "cell_type": "markdown",
   "metadata": {},
   "source": [
    "Contact: [Website](http://www.nipunbatra.wordpres.com), [Twitter](https://twitter.com/nipun_batra)"
   ]
  },
  {
   "cell_type": "code",
   "execution_count": null,
   "metadata": {
    "collapsed": false
   },
   "outputs": [],
   "source": []
  }
 ],
 "metadata": {
  "kernelspec": {
   "display_name": "Python 2",
   "language": "python",
   "name": "python2"
  },
  "language_info": {
   "codemirror_mode": {
    "name": "ipython",
    "version": 2
   },
   "file_extension": ".py",
   "mimetype": "text/x-python",
   "name": "python",
   "nbconvert_exporter": "python",
   "pygments_lexer": "ipython2",
   "version": "2.7.12"
  }
 },
 "nbformat": 4,
 "nbformat_minor": 0
}
