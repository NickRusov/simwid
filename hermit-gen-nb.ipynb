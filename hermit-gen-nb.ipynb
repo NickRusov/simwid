{
 "cells": [
  {
   "cell_type": "code",
   "execution_count": 17,
   "metadata": {
    "collapsed": false
   },
   "outputs": [
    {
     "name": "stdout",
     "output_type": "stream",
     "text": [
      "-4.0\n",
      "0.0\n",
      "0.0\n",
      "2.0\n",
      "0.0\n",
      "2.0\n"
     ]
    }
   ],
   "source": [
    "#! /usr/bin/python2\n",
    "from itertools import chain\n",
    "import numpy as np\n",
    "from copy import copy\n",
    "from numpy.linalg import det \n",
    "\n",
    "def get_hermit(dimensions=5, max_minor=2):\n",
    "    diag = [1]*(dimensions)\n",
    "    diag[-1] = max_minor\n",
    "    pre_last = np.random.randint(max_minor, size=dimensions - 1)\n",
    "    hermit = np.append(np.diag(diag), np.random.randint(-max_minor, max_minor + 1, size=(1, dimensions)), 0)\n",
    "    hermit[dimensions-1][:-1] = pre_last\n",
    "    return hermit\n",
    "\n",
    "\n",
    "def minor_mat(arr, i=0):\n",
    "#     ith row, jth column removed\n",
    "    return arr[np.array(range(i)+range(i+1, arr.shape[0]))[:, np.newaxis],\n",
    "               np.array(range(arr.shape[1]))]\n",
    "\n",
    "\n",
    "# def minor_mat(arr, i=0, j=0):\n",
    "    # ith row, jth column removed\n",
    "#     return arr[np.array(range(i)+range(i+1, arr.shape[0]))[:, np.newaxis],\n",
    "#                np.array(range(j)+range(j+1, arr.shape[1]))]\n",
    "\n",
    "def exclude_row(arr, i=0):\n",
    "    # ith row, jth column removed\n",
    "    return arr[np.array(chain(range(i),range(i+1, arr.shape[0])))[:, np.newaxis],\n",
    "               np.array(range(arr.shape[1]))]\n",
    "\n",
    "\n",
    "def get_det_of_minor(hermite):\n",
    "    # return [abs(d) for d in hermite: ]\n",
    "    for minor_counter in range(hermite.shape[1]):\n",
    "        yield abs(det(minor_mat(hermite, i=0, j=minor_counter)))\n",
    "        # prime = [2, 3, 5, 7, 11, 13, 17, 19, 23, 29, 31, 37, 41, 43, 47, 53, 59, 61, 67, 71, 73, 79, 83, 89, 97]\n",
    "\n",
    "h = get_hermit()\n",
    "# print(h)\n",
    "# print('\\n')\n",
    "# print(h[chain(range(1,2), range(3,5))])\n",
    "# print(exclude_row(h, 0))\n",
    "\n",
    "for i in range(h.shape[0]):\n",
    "    print(det(minor_mat(h,i)))\n",
    "#     m = copy(h[:-1])\n",
    "#     print(m)\n",
    "#     m[i] = h[-1]\n",
    "#     print(m)\n",
    "    #h[list(range(i)).extend(list(range(i+2, h.shape[0])))]\n",
    "#             np.array(range(h.shape[1]),dtype='int')])\n",
    "#     print(m)\n",
    "# det(h)"
   ]
  }
 ],
 "metadata": {
  "kernelspec": {
   "display_name": "Python 2",
   "language": "python",
   "name": "python2"
  },
  "language_info": {
   "codemirror_mode": {
    "name": "ipython",
    "version": 2
   },
   "file_extension": ".py",
   "mimetype": "text/x-python",
   "name": "python",
   "nbconvert_exporter": "python",
   "pygments_lexer": "ipython2",
   "version": "2.7.12"
  }
 },
 "nbformat": 4,
 "nbformat_minor": 1
}
